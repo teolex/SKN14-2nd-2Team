{
 "cells": [
  {
   "metadata": {},
   "cell_type": "markdown",
   "source": [
    "<style>\n",
    "    rd { color:red; }\n",
    "    bl { color:blue; }\n",
    "</style>"
   ],
   "id": "559c2d642dc5d9bd"
  },
  {
   "metadata": {},
   "cell_type": "markdown",
   "source": [
    "# GridSearchCV 로 RandomForest 조정시도\n",
    "## 전처리\n",
    "| 작업        | 대상                                                                                       |\n",
    "|:------------|:-------------------------------------------------------------------------------------------|\n",
    "| 컬럼 삭제   | \"RowNumber\", \"CustomerId\", \"Surname\"                                                       |\n",
    "| 컬럼 인코딩 | \"Geography\", \"Gender\"                                                                      |\n",
    "| 컬럼 라벨링 | \"CreditScore\", \"Geography\", \"Age\", \"Tenure\", \"Balance\", \"NumOfProducts\", \"EstimatedSalary\" |\n",
    "\n",
    "### 스케일링 : StandardScaler\n",
    "\n",
    "## 하이퍼파라미터\n",
    "- RandomForest\n",
    "    - param_grid = {\n",
    "          'n_estimators'      : [100, 300, 500],\n",
    "          'max_depth'         : [5, 8, 10, None],\n",
    "          'min_samples_split' : [10, 30, 50],\n",
    "          'max_features'      : ['sqrt', 'log2', None],\n",
    "          'criterion'         : [\"gini\", \"entropy\", \"log_loss\"],\n",
    "          'min_samples_leaf'  : [10, 30, 50, 80]\n",
    "      }\n",
    "\n",
    "## 결론 : 성능에 유의미한 변화 없음"
   ],
   "id": "e04b075cc9e028a6"
  },
  {
   "cell_type": "code",
   "id": "176db71343567c42",
   "metadata": {
    "ExecuteTime": {
     "end_time": "2025-05-30T00:56:53.705495Z",
     "start_time": "2025-05-30T00:56:53.277802Z"
    }
   },
   "source": [
    "import numpy             as np\n",
    "import pandas            as pd\n",
    "import matplotlib.pyplot as plt\n",
    "import seaborn           as sns\n",
    "\n",
    "import matplotlib\n",
    "import matplotlib.font_manager as fm\n",
    "\n",
    "import re\n",
    "\n",
    "from sklearn.metrics import accuracy_score, classification_report\n",
    "from sklearn.model_selection import train_test_split, GridSearchCV\n",
    "\n",
    "from sklearn.ensemble import RandomForestClassifier\n",
    "from sklearn.preprocessing import StandardScaler, LabelEncoder"
   ],
   "outputs": [],
   "execution_count": 2
  },
  {
   "metadata": {
    "ExecuteTime": {
     "end_time": "2025-05-30T00:56:53.718048Z",
     "start_time": "2025-05-30T00:56:53.711044Z"
    }
   },
   "cell_type": "code",
   "source": [
    "def encoding(df:pd.DataFrame, columns:list[str]):\n",
    "    \"\"\"범주형 데이터를 인코딩\"\"\"\n",
    "\n",
    "    encoder_list = {}\n",
    "    result_df    = df.copy(deep=True)\n",
    "\n",
    "    for col_nm in columns:\n",
    "        encoder           = LabelEncoder()\n",
    "        result_df[col_nm] = encoder.fit_transform(result_df[col_nm])\n",
    "\n",
    "        encoder_list[col_nm] = encoder\n",
    "\n",
    "    return result_df, encoder_list\n",
    "\n",
    "\n",
    "def scaling(df:pd.DataFrame, columns:list[str]):\n",
    "    \"\"\"DataFrame 에서 컬럼들을 스케일링\"\"\"\n",
    "\n",
    "    scaler    = StandardScaler()\n",
    "    result_df = df.copy(deep=True)\n",
    "\n",
    "    result_df[columns] = scaler.fit_transform(result_df[columns])\n",
    "\n",
    "    return result_df"
   ],
   "id": "e85e907202504aef",
   "outputs": [],
   "execution_count": 3
  },
  {
   "metadata": {},
   "cell_type": "markdown",
   "source": "## 데이터 로드 및 전처리",
   "id": "2d9aae1e9da8dd90"
  },
  {
   "metadata": {
    "ExecuteTime": {
     "end_time": "2025-05-30T00:56:53.767980Z",
     "start_time": "2025-05-30T00:56:53.730531Z"
    }
   },
   "cell_type": "code",
   "source": [
    "######################################### 데이터 로드\n",
    "df     = pd.read_csv(\"data/Churn_Modelling.csv\")\n",
    "inputs = df.drop(columns=[\"Exited\"], axis=1)\n",
    "labels = df[\"Exited\"]\n",
    "\n",
    "\n",
    "######################################### 데이터 전처리\n",
    "_input = inputs.drop(columns=[\"RowNumber\", \"CustomerId\", \"Surname\"], axis=1)     # 컬럼 삭제( Rownumber, CustomerId, Surname )\n",
    "_input, encoders = encoding(_input, [\"Geography\", \"Gender\"])            # 범주형 문자열 데이터 인코딩\n",
    "_input = scaling(_input, [\"CreditScore\", \"Geography\", \"Age\", \"Tenure\", \"Balance\", \"NumOfProducts\", \"EstimatedSalary\"])"
   ],
   "id": "9320ccba123b53ac",
   "outputs": [],
   "execution_count": 4
  },
  {
   "metadata": {
    "ExecuteTime": {
     "end_time": "2025-05-30T00:56:53.811472Z",
     "start_time": "2025-05-30T00:56:53.794072Z"
    }
   },
   "cell_type": "code",
   "source": "print(_input.info(), \"\\n\")",
   "id": "1cc759af73480643",
   "outputs": [
    {
     "name": "stdout",
     "output_type": "stream",
     "text": [
      "<class 'pandas.core.frame.DataFrame'>\n",
      "RangeIndex: 10000 entries, 0 to 9999\n",
      "Data columns (total 10 columns):\n",
      " #   Column           Non-Null Count  Dtype  \n",
      "---  ------           --------------  -----  \n",
      " 0   CreditScore      10000 non-null  float64\n",
      " 1   Geography        10000 non-null  float64\n",
      " 2   Gender           10000 non-null  int64  \n",
      " 3   Age              10000 non-null  float64\n",
      " 4   Tenure           10000 non-null  float64\n",
      " 5   Balance          10000 non-null  float64\n",
      " 6   NumOfProducts    10000 non-null  float64\n",
      " 7   HasCrCard        10000 non-null  int64  \n",
      " 8   IsActiveMember   10000 non-null  int64  \n",
      " 9   EstimatedSalary  10000 non-null  float64\n",
      "dtypes: float64(7), int64(3)\n",
      "memory usage: 781.4 KB\n",
      "None \n",
      "\n"
     ]
    }
   ],
   "execution_count": 5
  },
  {
   "metadata": {
    "ExecuteTime": {
     "end_time": "2025-05-30T00:56:53.872722Z",
     "start_time": "2025-05-30T00:56:53.856552Z"
    }
   },
   "cell_type": "code",
   "source": "print(_input.value_counts(), \"\\n\")",
   "id": "bc9aa03746c10880",
   "outputs": [
    {
     "name": "stdout",
     "output_type": "stream",
     "text": [
      "CreditScore  Geography  Gender  Age        Tenure     Balance    NumOfProducts  HasCrCard  IsActiveMember  EstimatedSalary\n",
      " 2.063884     1.515067  1        3.058772   1.724464  -0.110230  -0.911583      1          0               -0.038201          1\n",
      "-3.109504    -0.901886  0        0.102810  -1.733315   0.554746  -0.911583      1          1                1.256024          1\n",
      "                                 2.009882  -0.695982  -1.225848  -0.911583      0          0                0.238332          1\n",
      "                        1        1.151700   1.724464  -1.225848  -0.911583      1          1                0.447481          1\n",
      "              0.306591  1        0.007457  -1.733315   0.532858   0.807737      0          0                0.408848          1\n",
      "                                                                                                                             ..\n",
      "-2.581819     0.306591  1        0.865639   1.032908   0.827869  -0.911583      1          0                1.315709          1\n",
      "-2.550778     0.306591  0        1.437761  -0.350204   0.784850  -0.911583      1          0               -0.284738          1\n",
      "-2.540431    -0.901886  1        0.007457   1.724464  -1.225848  -0.911583      1          0                1.055871          1\n",
      "              0.306591  1       -0.755372  -0.004426   0.910561   0.807737      1          1               -0.471939          1\n",
      "-2.519738     1.515067  1       -0.183251  -1.387538  -1.225848  -0.911583      1          1               -0.885607          1\n",
      "Name: count, Length: 10000, dtype: int64 \n",
      "\n"
     ]
    }
   ],
   "execution_count": 6
  },
  {
   "metadata": {},
   "cell_type": "markdown",
   "source": "## 데이터 분할",
   "id": "93785a334ff273b1"
  },
  {
   "metadata": {
    "ExecuteTime": {
     "end_time": "2025-05-30T00:56:54.019913Z",
     "start_time": "2025-05-30T00:56:53.995598Z"
    }
   },
   "cell_type": "code",
   "source": [
    "######################################### 데이터 분할. random_state 지정한 상태에서 성능 확인/개선해보고, state 풀었을 때도 보기.\n",
    "train_x, test_x, train_y, test_y = train_test_split(_input, labels, stratify=labels)\n",
    "print(\"학습 데이터 shape : \", train_x.shape, train_y.shape)\n",
    "print(\"검증 데이터 shape : \",  test_x.shape,  test_y.shape, \"\\n\")"
   ],
   "id": "97d39ed511f967e7",
   "outputs": [
    {
     "name": "stdout",
     "output_type": "stream",
     "text": [
      "학습 데이터 shape :  (7500, 10) (7500,)\n",
      "검증 데이터 shape :  (2500, 10) (2500,) \n",
      "\n"
     ]
    }
   ],
   "execution_count": 7
  },
  {
   "metadata": {},
   "cell_type": "markdown",
   "source": [
    "## 임의의 파라미터로 수행한 RandomForestClassifier\n",
    "max_depth=10, max_features='sqrt', min_samples_split=2, n_estimators=300"
   ],
   "id": "760d521b6fe82417"
  },
  {
   "metadata": {
    "ExecuteTime": {
     "end_time": "2025-05-30T05:04:05.437929Z",
     "start_time": "2025-05-30T05:04:03.010852Z"
    }
   },
   "cell_type": "code",
   "source": [
    "######################################### 모델 학습\n",
    "model = RandomForestClassifier(max_depth=10, max_features='sqrt', min_samples_split=2, n_estimators=300)\n",
    "model.fit(train_x, train_y)\n",
    "\n",
    "\n",
    "######################################### 모델 성능 평가\n",
    "predicted = model.predict(test_x)\n",
    "print(classification_report(test_y, predicted, target_names=[\"Stayed\", \"Exited\"]))"
   ],
   "id": "22c55319eda1376f",
   "outputs": [
    {
     "name": "stdout",
     "output_type": "stream",
     "text": [
      "              precision    recall  f1-score   support\n",
      "\n",
      "      Stayed       0.87      0.98      0.92      1991\n",
      "      Exited       0.82      0.42      0.56       509\n",
      "\n",
      "    accuracy                           0.86      2500\n",
      "   macro avg       0.84      0.70      0.74      2500\n",
      "weighted avg       0.86      0.86      0.85      2500\n",
      "\n"
     ]
    }
   ],
   "execution_count": 9
  },
  {
   "metadata": {},
   "cell_type": "markdown",
   "source": "## GridSearchCV 로 하이퍼파라미터 조정 시도",
   "id": "1780c770429a76f6"
  },
  {
   "metadata": {
    "ExecuteTime": {
     "end_time": "2025-05-30T02:56:57.956603Z",
     "start_time": "2025-05-30T00:56:56.614966Z"
    }
   },
   "cell_type": "code",
   "source": [
    "# GridSearchCV 로 RandomForestClassification 하이퍼파라미터 조정\n",
    "param_grid = {\n",
    "    'n_estimators'      : [100, 300, 500],\n",
    "    'max_depth'         : [5, 8, 10, None],\n",
    "    'min_samples_split' : [10, 30, 50],\n",
    "    'max_features'      : ['sqrt', 'log2', None],\n",
    "    'criterion'         : [\"gini\", \"entropy\", \"log_loss\"],\n",
    "    'min_samples_leaf'  : [10, 30, 50, 80]\n",
    "}\n",
    "gridSCV = GridSearchCV(RandomForestClassifier(), param_grid=param_grid, cv=3)\n",
    "gridSCV.fit(train_x, train_y)\n",
    "\n",
    "print(gridSCV.best_score_, gridSCV.best_params_)"
   ],
   "id": "778ef06fb02489ec",
   "outputs": [
    {
     "name": "stdout",
     "output_type": "stream",
     "text": [
      "0.8596 {'criterion': 'gini', 'max_depth': 10, 'max_features': 'sqrt', 'min_samples_leaf': 10, 'min_samples_split': 30, 'n_estimators': 300}\n"
     ]
    }
   ],
   "execution_count": 8
  }
 ],
 "metadata": {
  "kernelspec": {
   "display_name": "Python 3",
   "language": "python",
   "name": "python3"
  },
  "language_info": {
   "codemirror_mode": {
    "name": "ipython",
    "version": 2
   },
   "file_extension": ".py",
   "mimetype": "text/x-python",
   "name": "python",
   "nbconvert_exporter": "python",
   "pygments_lexer": "ipython2",
   "version": "2.7.6"
  }
 },
 "nbformat": 4,
 "nbformat_minor": 5
}
