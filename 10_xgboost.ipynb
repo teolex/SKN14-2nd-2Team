{
 "cells": [
  {
   "metadata": {},
   "cell_type": "markdown",
   "source": [
    "<style>\n",
    "    rd { color:red; }\n",
    "    bl { color:blue; }\n",
    "</style>"
   ],
   "id": "559c2d642dc5d9bd"
  },
  {
   "metadata": {},
   "cell_type": "markdown",
   "source": [
    "# 특별한 가공이나 하이퍼파라미터 조작 없는 순정 XGBoost\n",
    "## 전처리\n",
    "| 작업        | 대상                                                                                       |\n",
    "|:------------|:-------------------------------------------------------------------------------------------|\n",
    "| 컬럼 삭제   | \"RowNumber\", \"CustomerId\", \"Surname\"                                                       |\n",
    "| 컬럼 인코딩 | \"Geography\", \"Gender\"                                                                      |\n",
    "| 컬럼 라벨링 | \"CreditScore\", \"Geography\", \"Age\", \"Tenure\", \"Balance\", \"NumOfProducts\", \"EstimatedSalary\" |\n",
    "\n",
    "### 스케일링 : StandardScaler\n",
    "\n",
    "## 하이퍼파라미터\n",
    "- XGBoost\n",
    "    - 조작없는 순정"
   ],
   "id": "e04b075cc9e028a6"
  },
  {
   "cell_type": "code",
   "id": "176db71343567c42",
   "metadata": {
    "ExecuteTime": {
     "end_time": "2025-05-30T05:10:43.873719Z",
     "start_time": "2025-05-30T05:10:43.868339Z"
    }
   },
   "source": [
    "import numpy             as np\n",
    "import pandas            as pd\n",
    "import matplotlib.pyplot as plt\n",
    "import seaborn           as sns\n",
    "\n",
    "import matplotlib\n",
    "import matplotlib.font_manager as fm\n",
    "\n",
    "import re\n",
    "\n",
    "from sklearn.metrics import accuracy_score, classification_report\n",
    "from sklearn.model_selection import train_test_split\n",
    "\n",
    "from sklearn.preprocessing import StandardScaler, LabelEncoder\n",
    "\n",
    "import xgboost as xgb\n",
    "from xgboost import plot_importance, XGBClassifier"
   ],
   "outputs": [],
   "execution_count": 10
  },
  {
   "metadata": {
    "ExecuteTime": {
     "end_time": "2025-05-30T02:03:45.722620Z",
     "start_time": "2025-05-30T02:03:45.715272Z"
    }
   },
   "cell_type": "code",
   "source": [
    "def encoding(df:pd.DataFrame, columns:list[str]):\n",
    "    \"\"\"범주형 데이터를 인코딩\"\"\"\n",
    "\n",
    "    encoder_list = {}\n",
    "    result_df    = df.copy(deep=True)\n",
    "\n",
    "    for col_nm in columns:\n",
    "        encoder           = LabelEncoder()\n",
    "        result_df[col_nm] = encoder.fit_transform(result_df[col_nm])\n",
    "\n",
    "        encoder_list[col_nm] = encoder\n",
    "\n",
    "    return result_df, encoder_list\n",
    "\n",
    "\n",
    "def scaling(df:pd.DataFrame, columns:list[str]):\n",
    "    \"\"\"DataFrame 에서 컬럼들을 스케일링\"\"\"\n",
    "\n",
    "    scaler    = StandardScaler()\n",
    "    result_df = df.copy(deep=True)\n",
    "\n",
    "    result_df[columns] = scaler.fit_transform(result_df[columns])\n",
    "\n",
    "    return result_df"
   ],
   "id": "e85e907202504aef",
   "outputs": [],
   "execution_count": 2
  },
  {
   "metadata": {},
   "cell_type": "markdown",
   "source": "## 데이터 로드 및 전처리",
   "id": "2d9aae1e9da8dd90"
  },
  {
   "metadata": {
    "ExecuteTime": {
     "end_time": "2025-05-30T02:03:46.016266Z",
     "start_time": "2025-05-30T02:03:45.979524Z"
    }
   },
   "cell_type": "code",
   "source": [
    "######################################### 데이터 로드\n",
    "df     = pd.read_csv(\"data/Churn_Modelling.csv\")\n",
    "inputs = df.drop(columns=[\"Exited\"], axis=1)\n",
    "labels = df[\"Exited\"]\n",
    "\n",
    "\n",
    "######################################### 데이터 전처리\n",
    "_input = inputs.drop(columns=[\"RowNumber\", \"CustomerId\", \"Surname\"], axis=1)     # 컬럼 삭제( Rownumber, CustomerId, Surname )\n",
    "_input, encoders = encoding(_input, [\"Geography\", \"Gender\"])            # 범주형 문자열 데이터 인코딩\n",
    "_input = scaling(_input, [\"CreditScore\", \"Geography\", \"Age\", \"Tenure\", \"Balance\", \"NumOfProducts\", \"EstimatedSalary\"])"
   ],
   "id": "9320ccba123b53ac",
   "outputs": [],
   "execution_count": 3
  },
  {
   "metadata": {
    "ExecuteTime": {
     "end_time": "2025-05-30T02:03:46.050953Z",
     "start_time": "2025-05-30T02:03:46.037724Z"
    }
   },
   "cell_type": "code",
   "source": "print(_input.info(), \"\\n\")",
   "id": "1cc759af73480643",
   "outputs": [
    {
     "name": "stdout",
     "output_type": "stream",
     "text": [
      "<class 'pandas.core.frame.DataFrame'>\n",
      "RangeIndex: 10000 entries, 0 to 9999\n",
      "Data columns (total 10 columns):\n",
      " #   Column           Non-Null Count  Dtype  \n",
      "---  ------           --------------  -----  \n",
      " 0   CreditScore      10000 non-null  float64\n",
      " 1   Geography        10000 non-null  float64\n",
      " 2   Gender           10000 non-null  int64  \n",
      " 3   Age              10000 non-null  float64\n",
      " 4   Tenure           10000 non-null  float64\n",
      " 5   Balance          10000 non-null  float64\n",
      " 6   NumOfProducts    10000 non-null  float64\n",
      " 7   HasCrCard        10000 non-null  int64  \n",
      " 8   IsActiveMember   10000 non-null  int64  \n",
      " 9   EstimatedSalary  10000 non-null  float64\n",
      "dtypes: float64(7), int64(3)\n",
      "memory usage: 781.4 KB\n",
      "None \n",
      "\n"
     ]
    }
   ],
   "execution_count": 4
  },
  {
   "metadata": {
    "ExecuteTime": {
     "end_time": "2025-05-30T02:03:46.098588Z",
     "start_time": "2025-05-30T02:03:46.082172Z"
    }
   },
   "cell_type": "code",
   "source": "print(_input.value_counts(), \"\\n\")",
   "id": "bc9aa03746c10880",
   "outputs": [
    {
     "name": "stdout",
     "output_type": "stream",
     "text": [
      "CreditScore  Geography  Gender  Age        Tenure     Balance    NumOfProducts  HasCrCard  IsActiveMember  EstimatedSalary\n",
      " 2.063884     1.515067  1        3.058772   1.724464  -0.110230  -0.911583      1          0               -0.038201          1\n",
      "-3.109504    -0.901886  0        0.102810  -1.733315   0.554746  -0.911583      1          1                1.256024          1\n",
      "                                 2.009882  -0.695982  -1.225848  -0.911583      0          0                0.238332          1\n",
      "                        1        1.151700   1.724464  -1.225848  -0.911583      1          1                0.447481          1\n",
      "              0.306591  1        0.007457  -1.733315   0.532858   0.807737      0          0                0.408848          1\n",
      "                                                                                                                             ..\n",
      "-2.581819     0.306591  1        0.865639   1.032908   0.827869  -0.911583      1          0                1.315709          1\n",
      "-2.550778     0.306591  0        1.437761  -0.350204   0.784850  -0.911583      1          0               -0.284738          1\n",
      "-2.540431    -0.901886  1        0.007457   1.724464  -1.225848  -0.911583      1          0                1.055871          1\n",
      "              0.306591  1       -0.755372  -0.004426   0.910561   0.807737      1          1               -0.471939          1\n",
      "-2.519738     1.515067  1       -0.183251  -1.387538  -1.225848  -0.911583      1          1               -0.885607          1\n",
      "Name: count, Length: 10000, dtype: int64 \n",
      "\n"
     ]
    }
   ],
   "execution_count": 5
  },
  {
   "metadata": {},
   "cell_type": "markdown",
   "source": "## 데이터 분할",
   "id": "93785a334ff273b1"
  },
  {
   "metadata": {
    "ExecuteTime": {
     "end_time": "2025-05-30T02:03:46.201485Z",
     "start_time": "2025-05-30T02:03:46.185776Z"
    }
   },
   "cell_type": "code",
   "source": [
    "######################################### 데이터 분할. random_state 지정한 상태에서 성능 확인/개선해보고, state 풀었을 때도 보기.\n",
    "train_x, test_x, train_y, test_y = train_test_split(_input, labels, stratify=labels)\n",
    "print(\"학습 데이터 shape : \", train_x.shape, train_y.shape)\n",
    "print(\"검증 데이터 shape : \",  test_x.shape,  test_y.shape, \"\\n\")"
   ],
   "id": "97d39ed511f967e7",
   "outputs": [
    {
     "name": "stdout",
     "output_type": "stream",
     "text": [
      "학습 데이터 shape :  (7500, 10) (7500,)\n",
      "검증 데이터 shape :  (2500, 10) (2500,) \n",
      "\n"
     ]
    }
   ],
   "execution_count": 6
  },
  {
   "metadata": {},
   "cell_type": "markdown",
   "source": [
    "## 모델 학습 및 평가 - n_estimators=400, learning_rate=0.1, max_depth=5\n",
    "RandomForest 에 비해 성능이 하락함."
   ],
   "id": "572c908ff4bc8a57"
  },
  {
   "metadata": {
    "ExecuteTime": {
     "end_time": "2025-05-30T05:59:49.830418Z",
     "start_time": "2025-05-30T05:59:49.454583Z"
    }
   },
   "cell_type": "code",
   "source": [
    "# 데이터 wrapping\n",
    "# dtrain_x = xgb.DMatrix(train_x, train_y)\n",
    "# dtest_x  = xgb.DMatrix(test_x , test_y)\n",
    "\n",
    "######################################### 모델 학습\n",
    "# params = {'max_depth'       : 5,\n",
    "#           'eta'             : 0.1,\n",
    "#           'objective'       : 'binary:logistic',\n",
    "#           'eval_metric'     : 'logloss',\n",
    "#           'early_stoppings' : 100\n",
    "# }\n",
    "# model = xgb.train(params=params, dtrain=dtrain_x, num_boost_round=400, evals=[(dtrain_x, \"train\"), (dtest_x, \"eval\")])\n",
    "model = XGBClassifier(n_estimators=500, learning_rate=0.005, max_depth=5)             # 0.85\n",
    "# model = XGBClassifier(n_estimators=400, learning_rate=0.1, booster=\"gblinear\")    # 0.80\n",
    "model.fit(train_x, train_y)\n",
    "\n",
    "\n",
    "######################################### 모델 성능 평가\n",
    "predicted = model.predict(test_x)\n",
    "print(classification_report(test_y, predicted, target_names=[\"Stayed\", \"Exited\"]))"
   ],
   "id": "276e2056321e9a9f",
   "outputs": [
    {
     "name": "stdout",
     "output_type": "stream",
     "text": [
      "              precision    recall  f1-score   support\n",
      "\n",
      "      Stayed       0.87      0.98      0.92      1991\n",
      "      Exited       0.84      0.40      0.54       509\n",
      "\n",
      "    accuracy                           0.86      2500\n",
      "   macro avg       0.85      0.69      0.73      2500\n",
      "weighted avg       0.86      0.86      0.84      2500\n",
      "\n"
     ]
    }
   ],
   "execution_count": 23
  }
 ],
 "metadata": {
  "kernelspec": {
   "display_name": "Python 3",
   "language": "python",
   "name": "python3"
  },
  "language_info": {
   "codemirror_mode": {
    "name": "ipython",
    "version": 2
   },
   "file_extension": ".py",
   "mimetype": "text/x-python",
   "name": "python",
   "nbconvert_exporter": "python",
   "pygments_lexer": "ipython2",
   "version": "2.7.6"
  }
 },
 "nbformat": 4,
 "nbformat_minor": 5
}
