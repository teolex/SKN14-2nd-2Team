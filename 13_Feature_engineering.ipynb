{
 "cells": [
  {
   "metadata": {},
   "cell_type": "markdown",
   "source": [
    "<style>\n",
    "    rd { color:red; }\n",
    "    bl { color:blue; }\n",
    "</style>"
   ],
   "id": "559c2d642dc5d9bd"
  },
  {
   "metadata": {},
   "cell_type": "markdown",
   "source": [
    "# Feature Engineering 을 통한 성능 향상 시도\n",
    "XGBoost의 plot_importance 결과로 얻은, 중요도가 떨어지는 속성들에 대하여<br/>\n",
    "noise 일 수 도 있는 속성들을 제거하여 성능이 향상되는지 확인해본다.\n",
    "\n",
    "## 전처리\n",
    "| 작업        | 대상                                                                                       |\n",
    "|:------------|:-------------------------------------------------------------------------------------------|\n",
    "| 컬럼 삭제   | \"RowNumber\", \"CustomerId\", \"Surname\"                                                       |\n",
    "| 컬럼 인코딩 | \"Geography\", \"Gender\"                                                                      |\n",
    "| 컬럼 라벨링 | \"CreditScore\", \"Geography\", \"Age\", \"Tenure\", \"Balance\", \"NumOfProducts\", \"EstimatedSalary\" |\n",
    "\n",
    "### 스케일링 : StandardScaler\n",
    "\n",
    "## Drop 대상 특성\n",
    "1. HasCrCard\n",
    "2. CreditScore\n",
    "3. EstimatedSalary\n",
    "4. Tenure\n",
    "\n",
    "## 결론 : 정확도 86% 에서 의미있는 성능변화 없음"
   ],
   "id": "e04b075cc9e028a6"
  },
  {
   "cell_type": "code",
   "id": "176db71343567c42",
   "metadata": {
    "ExecuteTime": {
     "end_time": "2025-05-30T09:37:56.906686Z",
     "start_time": "2025-05-30T09:37:56.514035Z"
    }
   },
   "source": [
    "import numpy             as np\n",
    "import pandas            as pd\n",
    "import matplotlib.pyplot as plt\n",
    "import seaborn           as sns\n",
    "\n",
    "import matplotlib\n",
    "import matplotlib.font_manager as fm\n",
    "\n",
    "import re\n",
    "\n",
    "from sklearn.metrics import accuracy_score, classification_report\n",
    "from sklearn.model_selection import train_test_split\n",
    "\n",
    "from sklearn.ensemble import RandomForestClassifier\n",
    "from sklearn.preprocessing import StandardScaler, LabelEncoder"
   ],
   "outputs": [],
   "execution_count": 2
  },
  {
   "metadata": {
    "ExecuteTime": {
     "end_time": "2025-05-30T09:37:56.916521Z",
     "start_time": "2025-05-30T09:37:56.906686Z"
    }
   },
   "cell_type": "code",
   "source": [
    "def encoding(df:pd.DataFrame, columns:list[str]):\n",
    "    \"\"\"범주형 데이터를 인코딩\"\"\"\n",
    "\n",
    "    encoder_list = {}\n",
    "    result_df    = df.copy(deep=True)\n",
    "\n",
    "    for col_nm in columns:\n",
    "        encoder           = LabelEncoder()\n",
    "        result_df[col_nm] = encoder.fit_transform(result_df[col_nm])\n",
    "\n",
    "        encoder_list[col_nm] = encoder\n",
    "\n",
    "    return result_df, encoder_list\n",
    "\n",
    "\n",
    "def scaling(df:pd.DataFrame, columns:list[str]):\n",
    "    \"\"\"DataFrame 에서 컬럼들을 스케일링\"\"\"\n",
    "\n",
    "    scaler    = StandardScaler()\n",
    "    result_df = df.copy(deep=True)\n",
    "\n",
    "    result_df[columns] = scaler.fit_transform(result_df[columns])\n",
    "\n",
    "    return result_df"
   ],
   "id": "e85e907202504aef",
   "outputs": [],
   "execution_count": 3
  },
  {
   "metadata": {},
   "cell_type": "markdown",
   "source": "## 데이터 로드 및 전처리",
   "id": "2d9aae1e9da8dd90"
  },
  {
   "metadata": {
    "ExecuteTime": {
     "end_time": "2025-05-30T09:37:56.981835Z",
     "start_time": "2025-05-30T09:37:56.943888Z"
    }
   },
   "cell_type": "code",
   "source": [
    "######################################### 데이터 로드\n",
    "df     = pd.read_csv(\"data/Churn_Modelling.csv\")\n",
    "inputs = df.drop(columns=[\"Exited\"], axis=1)\n",
    "labels = df[\"Exited\"]\n",
    "\n",
    "\n",
    "######################################### 데이터 전처리\n",
    "_input = inputs.drop(columns=[\"RowNumber\", \"CustomerId\", \"Surname\"], axis=1)     # 컬럼 삭제( Rownumber, CustomerId, Surname )\n",
    "_input, encoders = encoding(_input, [\"Geography\", \"Gender\"])            # 범주형 문자열 데이터 인코딩\n",
    "_input = scaling(_input, [\"CreditScore\", \"Geography\", \"Age\", \"Tenure\", \"Balance\", \"NumOfProducts\", \"EstimatedSalary\"])"
   ],
   "id": "9320ccba123b53ac",
   "outputs": [],
   "execution_count": 4
  },
  {
   "metadata": {},
   "cell_type": "markdown",
   "source": [
    "## TRIAL : XGBoost의 plot_importance 에서 중요도가 높은 항목들만 남겨서 성능 변화 확인\n",
    "성능이 미세하게 하락"
   ],
   "id": "bb822a6d11009fb8"
  },
  {
   "metadata": {
    "ExecuteTime": {
     "end_time": "2025-05-30T09:40:11.051377Z",
     "start_time": "2025-05-30T09:40:10.588208Z"
    }
   },
   "cell_type": "code",
   "source": [
    "######################################### DROP : HasCrCard\n",
    "fe_input = _input[[\"IsActiveMember\", \"NumOfProducts\", \"Age\", \"Balance\"]]\n",
    "\n",
    "\n",
    "######################################### 데이터 분할. random_state 지정한 상태에서 성능 확인/개선해보고, state 풀었을 때도 보기.\n",
    "train_x, test_x, train_y, test_y = train_test_split(fe_input, labels, stratify=labels)\n",
    "# print(\"학습 데이터 shape : \", train_x.shape, train_y.shape)\n",
    "# print(\"검증 데이터 shape : \",  test_x.shape,  test_y.shape, \"\\n\")\n",
    "\n",
    "\n",
    "######################################### 모델 학습\n",
    "model = RandomForestClassifier(max_depth=7)\n",
    "model.fit(train_x, train_y)\n",
    "\n",
    "\n",
    "######################################### 모델 성능 평가\n",
    "predicted = model.predict(test_x)\n",
    "print(classification_report(test_y, predicted, target_names=[\"Stayed\", \"Exited\"]))"
   ],
   "id": "595a07b468a2ac15",
   "outputs": [
    {
     "name": "stdout",
     "output_type": "stream",
     "text": [
      "              precision    recall  f1-score   support\n",
      "\n",
      "      Stayed       0.86      0.97      0.91      1991\n",
      "      Exited       0.75      0.39      0.52       509\n",
      "\n",
      "    accuracy                           0.85      2500\n",
      "   macro avg       0.81      0.68      0.71      2500\n",
      "weighted avg       0.84      0.85      0.83      2500\n",
      "\n"
     ]
    }
   ],
   "execution_count": 12
  }
 ],
 "metadata": {
  "kernelspec": {
   "display_name": "Python 3",
   "language": "python",
   "name": "python3"
  },
  "language_info": {
   "codemirror_mode": {
    "name": "ipython",
    "version": 2
   },
   "file_extension": ".py",
   "mimetype": "text/x-python",
   "name": "python",
   "nbconvert_exporter": "python",
   "pygments_lexer": "ipython2",
   "version": "2.7.6"
  }
 },
 "nbformat": 4,
 "nbformat_minor": 5
}
