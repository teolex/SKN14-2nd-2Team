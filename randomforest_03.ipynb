{
 "cells": [
  {
   "metadata": {},
   "cell_type": "markdown",
   "source": [
    "<style>\n",
    "    rd { color:red; }\n",
    "    bl { color:blue; }\n",
    "</style>"
   ],
   "id": "559c2d642dc5d9bd"
  },
  {
   "metadata": {},
   "cell_type": "markdown",
   "source": [
    "# max_depth 에 따른 RandomForest\n",
    "## 전처리\n",
    "| 작업        | 대상                                                                                       |\n",
    "|:------------|:-------------------------------------------------------------------------------------------|\n",
    "| 컬럼 삭제   | \"RowNumber\", \"CustomerId\", \"Surname\"                                                       |\n",
    "| 컬럼 인코딩 | \"Geography\", \"Gender\"                                                                      |\n",
    "| 컬럼 라벨링 | \"CreditScore\", \"Geography\", \"Age\", \"Tenure\", \"Balance\", \"NumOfProducts\", \"EstimatedSalary\" |\n",
    "\n",
    "### 스케일링 : StandardScaler\n",
    "\n",
    "## 하이퍼파라미터\n",
    "- RandomForest\n",
    "    - max_depth : 3, 5, 8, 10\n",
    "\n",
    "## 결론 : max_depth 는 과적합 방지로만."
   ],
   "id": "e04b075cc9e028a6"
  },
  {
   "cell_type": "code",
   "id": "176db71343567c42",
   "metadata": {
    "ExecuteTime": {
     "end_time": "2025-05-29T11:07:44.333082Z",
     "start_time": "2025-05-29T11:07:44.327106Z"
    }
   },
   "source": [
    "import numpy             as np\n",
    "import pandas            as pd\n",
    "import matplotlib.pyplot as plt\n",
    "import seaborn           as sns\n",
    "\n",
    "import matplotlib\n",
    "import matplotlib.font_manager as fm\n",
    "\n",
    "import re\n",
    "\n",
    "from sklearn.metrics import accuracy_score, classification_report\n",
    "from sklearn.model_selection import train_test_split\n",
    "\n",
    "from sklearn.ensemble import RandomForestClassifier\n",
    "from sklearn.preprocessing import StandardScaler, LabelEncoder"
   ],
   "outputs": [],
   "execution_count": 10
  },
  {
   "metadata": {
    "ExecuteTime": {
     "end_time": "2025-05-29T11:07:44.385695Z",
     "start_time": "2025-05-29T11:07:44.377697Z"
    }
   },
   "cell_type": "code",
   "source": [
    "def encoding(df:pd.DataFrame, columns:list[str]):\n",
    "    \"\"\"범주형 데이터를 인코딩\"\"\"\n",
    "\n",
    "    encoder_list = {}\n",
    "    result_df    = df.copy(deep=True)\n",
    "\n",
    "    for col_nm in columns:\n",
    "        encoder           = LabelEncoder()\n",
    "        result_df[col_nm] = encoder.fit_transform(result_df[col_nm])\n",
    "\n",
    "        encoder_list[col_nm] = encoder\n",
    "\n",
    "    return result_df, encoder_list\n",
    "\n",
    "\n",
    "def scaling(df:pd.DataFrame, columns:list[str]):\n",
    "    \"\"\"DataFrame 에서 컬럼들을 스케일링\"\"\"\n",
    "\n",
    "    scaler    = StandardScaler()\n",
    "    result_df = df.copy(deep=True)\n",
    "\n",
    "    result_df[columns] = scaler.fit_transform(result_df[columns])\n",
    "\n",
    "    return result_df"
   ],
   "id": "e85e907202504aef",
   "outputs": [],
   "execution_count": 11
  },
  {
   "metadata": {},
   "cell_type": "markdown",
   "source": "## 데이터 로드 및 전처리",
   "id": "2d9aae1e9da8dd90"
  },
  {
   "metadata": {
    "ExecuteTime": {
     "end_time": "2025-05-29T11:07:44.463283Z",
     "start_time": "2025-05-29T11:07:44.430927Z"
    }
   },
   "cell_type": "code",
   "source": [
    "######################################### 데이터 로드\n",
    "df     = pd.read_csv(\"data/Churn_Modelling.csv\")\n",
    "inputs = df.drop(columns=[\"Exited\"], axis=1)\n",
    "labels = df[\"Exited\"]\n",
    "\n",
    "\n",
    "######################################### 데이터 전처리\n",
    "_input = inputs.drop(columns=[\"RowNumber\", \"CustomerId\", \"Surname\"], axis=1)     # 컬럼 삭제( Rownumber, CustomerId, Surname )\n",
    "_input, encoders = encoding(_input, [\"Geography\", \"Gender\"])            # 범주형 문자열 데이터 인코딩\n",
    "_input = scaling(_input, [\"CreditScore\", \"Geography\", \"Age\", \"Tenure\", \"Balance\", \"NumOfProducts\", \"EstimatedSalary\"])"
   ],
   "id": "9320ccba123b53ac",
   "outputs": [],
   "execution_count": 12
  },
  {
   "metadata": {
    "ExecuteTime": {
     "end_time": "2025-05-29T11:07:44.497483Z",
     "start_time": "2025-05-29T11:07:44.489066Z"
    }
   },
   "cell_type": "code",
   "source": "print(_input.info(), \"\\n\")",
   "id": "1cc759af73480643",
   "outputs": [
    {
     "name": "stdout",
     "output_type": "stream",
     "text": [
      "<class 'pandas.core.frame.DataFrame'>\n",
      "RangeIndex: 10000 entries, 0 to 9999\n",
      "Data columns (total 10 columns):\n",
      " #   Column           Non-Null Count  Dtype  \n",
      "---  ------           --------------  -----  \n",
      " 0   CreditScore      10000 non-null  float64\n",
      " 1   Geography        10000 non-null  float64\n",
      " 2   Gender           10000 non-null  int64  \n",
      " 3   Age              10000 non-null  float64\n",
      " 4   Tenure           10000 non-null  float64\n",
      " 5   Balance          10000 non-null  float64\n",
      " 6   NumOfProducts    10000 non-null  float64\n",
      " 7   HasCrCard        10000 non-null  int64  \n",
      " 8   IsActiveMember   10000 non-null  int64  \n",
      " 9   EstimatedSalary  10000 non-null  float64\n",
      "dtypes: float64(7), int64(3)\n",
      "memory usage: 781.4 KB\n",
      "None \n",
      "\n"
     ]
    }
   ],
   "execution_count": 13
  },
  {
   "metadata": {
    "ExecuteTime": {
     "end_time": "2025-05-29T11:07:44.554356Z",
     "start_time": "2025-05-29T11:07:44.522995Z"
    }
   },
   "cell_type": "code",
   "source": "print(_input.value_counts(), \"\\n\")",
   "id": "bc9aa03746c10880",
   "outputs": [
    {
     "name": "stdout",
     "output_type": "stream",
     "text": [
      "CreditScore  Geography  Gender  Age       Tenure  Balance   NumOfProducts  HasCrCard  IsActiveMember  EstimatedSalary\n",
      "1.000        1.0        1       0.716216  1.0     0.277436  0.000000       1          0               0.489456           1\n",
      "0.000        0.0        0       0.297297  0.0     0.442805  0.000000       1          1               0.861630           1\n",
      "                                0.567568  0.3     0.000000  0.000000       0          0               0.568977           1\n",
      "                        1       0.445946  1.0     0.000000  0.000000       1          1               0.629121           1\n",
      "             0.5        1       0.283784  0.0     0.437362  0.333333       0          0               0.618012           1\n",
      "                                                                                                                        ..\n",
      "0.102        0.5        1       0.405405  0.8     0.510726  0.000000       1          0               0.878794           1\n",
      "0.108        0.5        0       0.486486  0.4     0.500028  0.000000       1          0               0.418560           1\n",
      "0.110        0.0        1       0.283784  1.0     0.000000  0.000000       1          0               0.804073           1\n",
      "             0.5        1       0.175676  0.5     0.531290  0.333333       1          1               0.364728           1\n",
      "0.114        1.0        1       0.256757  0.1     0.000000  0.000000       1          1               0.245771           1\n",
      "Name: count, Length: 10000, dtype: int64 \n",
      "\n"
     ]
    }
   ],
   "execution_count": 14
  },
  {
   "metadata": {},
   "cell_type": "markdown",
   "source": "## 데이터 분할",
   "id": "93785a334ff273b1"
  },
  {
   "metadata": {
    "ExecuteTime": {
     "end_time": "2025-05-29T11:07:44.600279Z",
     "start_time": "2025-05-29T11:07:44.588653Z"
    }
   },
   "cell_type": "code",
   "source": [
    "######################################### 데이터 분할. random_state 지정한 상태에서 성능 확인/개선해보고, state 풀었을 때도 보기.\n",
    "train_x, test_x, train_y, test_y = train_test_split(_input, labels, stratify=labels)\n",
    "print(\"학습 데이터 shape : \", train_x.shape, train_y.shape)\n",
    "print(\"검증 데이터 shape : \",  test_x.shape,  test_y.shape, \"\\n\")"
   ],
   "id": "97d39ed511f967e7",
   "outputs": [
    {
     "name": "stdout",
     "output_type": "stream",
     "text": [
      "학습 데이터 shape :  (7500, 10) (7500,)\n",
      "검증 데이터 shape :  (2500, 10) (2500,) \n",
      "\n"
     ]
    }
   ],
   "execution_count": 15
  },
  {
   "metadata": {},
   "cell_type": "markdown",
   "source": [
    "## 모델 학습 및 평가 - max_depth=3\n",
    "순정에 비해 정밀도 <rd>상승</rd>, 재현율 <bl>하락</bl>, F1점수 <bl>하락</bl>"
   ],
   "id": "c0d879bb43a1f80e"
  },
  {
   "metadata": {
    "collapsed": true,
    "ExecuteTime": {
     "end_time": "2025-05-29T11:22:42.320235Z",
     "start_time": "2025-05-29T11:22:41.949900Z"
    }
   },
   "cell_type": "code",
   "source": [
    "######################################### 모델 학습\n",
    "model = RandomForestClassifier(max_depth=3)\n",
    "model.fit(train_x, train_y)\n",
    "\n",
    "\n",
    "######################################### 모델 성능 평가\n",
    "predicted = model.predict(test_x)\n",
    "print(classification_report(test_y, predicted, target_names=[\"Stayed\", \"Exited\"]))"
   ],
   "id": "initial_id",
   "outputs": [
    {
     "name": "stdout",
     "output_type": "stream",
     "text": [
      "              precision    recall  f1-score   support\n",
      "\n",
      "      Stayed       0.82      1.00      0.90      1991\n",
      "      Exited       0.94      0.14      0.25       509\n",
      "\n",
      "    accuracy                           0.82      2500\n",
      "   macro avg       0.88      0.57      0.57      2500\n",
      "weighted avg       0.84      0.82      0.77      2500\n",
      "\n"
     ]
    }
   ],
   "execution_count": 17
  },
  {
   "metadata": {},
   "cell_type": "markdown",
   "source": [
    "## 모델 학습 및 평가 - max_depth=5\n",
    "순정과 큰 차이 없음"
   ],
   "id": "aee85f005836d1ec"
  },
  {
   "metadata": {
    "ExecuteTime": {
     "end_time": "2025-05-29T11:23:57.532964Z",
     "start_time": "2025-05-29T11:23:57.085577Z"
    }
   },
   "cell_type": "code",
   "outputs": [
    {
     "name": "stdout",
     "output_type": "stream",
     "text": [
      "              precision    recall  f1-score   support\n",
      "\n",
      "      Stayed       0.86      0.98      0.92      1991\n",
      "      Exited       0.86      0.38      0.53       509\n",
      "\n",
      "    accuracy                           0.86      2500\n",
      "   macro avg       0.86      0.68      0.72      2500\n",
      "weighted avg       0.86      0.86      0.84      2500\n",
      "\n"
     ]
    }
   ],
   "execution_count": 18,
   "source": [
    "######################################### 모델 학습\n",
    "model = RandomForestClassifier(max_depth=5)\n",
    "model.fit(train_x, train_y)\n",
    "\n",
    "\n",
    "######################################### 모델 성능 평가\n",
    "predicted = model.predict(test_x)\n",
    "print(classification_report(test_y, predicted, target_names=[\"Stayed\", \"Exited\"]))"
   ],
   "id": "882e96fd4f44af2b"
  },
  {
   "metadata": {},
   "cell_type": "markdown",
   "source": [
    "## 모델 학습 및 평가 - max_depth=8\n",
    "정밀도는 약간 상승했으나 순정과 큰 차이 없음"
   ],
   "id": "58366cdf9311fa8e"
  },
  {
   "metadata": {
    "ExecuteTime": {
     "end_time": "2025-05-29T11:29:13.276568Z",
     "start_time": "2025-05-29T11:29:12.637022Z"
    }
   },
   "cell_type": "code",
   "outputs": [
    {
     "name": "stdout",
     "output_type": "stream",
     "text": [
      "              precision    recall  f1-score   support\n",
      "\n",
      "      Stayed       0.87      0.98      0.92      1991\n",
      "      Exited       0.82      0.42      0.55       509\n",
      "\n",
      "    accuracy                           0.86      2500\n",
      "   macro avg       0.84      0.70      0.74      2500\n",
      "weighted avg       0.86      0.86      0.84      2500\n",
      "\n"
     ]
    }
   ],
   "execution_count": 19,
   "source": [
    "######################################### 모델 학습\n",
    "model = RandomForestClassifier(max_depth=8)\n",
    "model.fit(train_x, train_y)\n",
    "\n",
    "\n",
    "######################################### 모델 성능 평가\n",
    "predicted = model.predict(test_x)\n",
    "print(classification_report(test_y, predicted, target_names=[\"Stayed\", \"Exited\"]))"
   ],
   "id": "925149c5b1754a55"
  },
  {
   "metadata": {},
   "cell_type": "markdown",
   "source": [
    "## 모델 학습 및 평가 - max_depth=10\n",
    "순정과 큰 차이 없음"
   ],
   "id": "f3891cb05c5eddcd"
  },
  {
   "metadata": {
    "ExecuteTime": {
     "end_time": "2025-05-29T11:29:16.174155Z",
     "start_time": "2025-05-29T11:29:15.424645Z"
    }
   },
   "cell_type": "code",
   "outputs": [
    {
     "name": "stdout",
     "output_type": "stream",
     "text": [
      "              precision    recall  f1-score   support\n",
      "\n",
      "      Stayed       0.87      0.97      0.92      1991\n",
      "      Exited       0.78      0.44      0.56       509\n",
      "\n",
      "    accuracy                           0.86      2500\n",
      "   macro avg       0.83      0.70      0.74      2500\n",
      "weighted avg       0.85      0.86      0.85      2500\n",
      "\n"
     ]
    }
   ],
   "execution_count": 20,
   "source": [
    "######################################### 모델 학습\n",
    "model = RandomForestClassifier(max_depth=10)\n",
    "model.fit(train_x, train_y)\n",
    "\n",
    "\n",
    "######################################### 모델 성능 평가\n",
    "predicted = model.predict(test_x)\n",
    "print(classification_report(test_y, predicted, target_names=[\"Stayed\", \"Exited\"]))"
   ],
   "id": "3c4a0ca7d571b5da"
  }
 ],
 "metadata": {
  "kernelspec": {
   "display_name": "Python 3",
   "language": "python",
   "name": "python3"
  },
  "language_info": {
   "codemirror_mode": {
    "name": "ipython",
    "version": 2
   },
   "file_extension": ".py",
   "mimetype": "text/x-python",
   "name": "python",
   "nbconvert_exporter": "python",
   "pygments_lexer": "ipython2",
   "version": "2.7.6"
  }
 },
 "nbformat": 4,
 "nbformat_minor": 5
}
